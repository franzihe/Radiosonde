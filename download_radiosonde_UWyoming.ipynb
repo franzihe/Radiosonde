{
 "cells": [
  {
   "cell_type": "code",
   "execution_count": null,
   "metadata": {},
   "outputs": [],
   "source": [
    "# supress warnings\n",
    "import warnings\n",
    "warnings.filterwarnings('ignore') # don't output warnings\n",
    "\n",
    "# import packages\n",
    "from imports import (np, urllib3, BeautifulSoup, fct)\n",
    "\n",
    "# reload imports\n",
    "%load_ext autoreload\n",
    "%autoreload 2\n",
    "\n"
   ]
  },
  {
   "cell_type": "code",
   "execution_count": null,
   "metadata": {},
   "outputs": [],
   "source": [
    "stn = '01415' #1415 is ID for Stavanger\n",
    "\n",
    "\n",
    "fct.createFolder('/home/franzihe/Documents/Data/Sounding/{}'.format(stn)) # for text files"
   ]
  },
  {
   "cell_type": "code",
   "execution_count": null,
   "metadata": {},
   "outputs": [],
   "source": [
    "m = [#'12','01', \n",
    "     '02']\n",
    "h = [#'00', \n",
    "    '12']"
   ]
  },
  {
   "cell_type": "code",
   "execution_count": null,
   "metadata": {},
   "outputs": [],
   "source": [
    "for month in m:\n",
    "    if month == '12':\n",
    "        t = np.array([8, 9, 10, 12, 15, 20, 21, 22, 23, 24, 25, 26, 29, 31])\n",
    "    if month == '01':\n",
    "        t = np.array([2, 3, 5, 6, 8, 9, 10, 11, 12, 28])\n",
    "    if month == '02':\n",
    "        t = np.array([2, 3, 4])    \n",
    "    if month == '12':\n",
    "        year = '2016'\n",
    "    if month == '01' or month == '02':\n",
    "        year = '2017'\n",
    "    for day in t:\n",
    "        if day < 10:\n",
    "            day = '0%s' %day\n",
    "        \n",
    "        for hour in h:\n",
    "            \n",
    "\n",
    "            # 1) \n",
    "            # Wyoming URL to download Sounding from\n",
    "            url = 'http://weather.uwyo.edu/cgi-bin/sounding?region=naconf&TYPE=TEXT%3ALIST&YEAR='+year+'&MONTH='+month+'&FROM='+str(day)+hour+'&TO='+str(day)+hour+'&STNM='+stn\n",
    "\n",
    "\n",
    "            #2)\n",
    "            # Remove the html tags\n",
    "            http = urllib3.PoolManager()\n",
    "            response = http.request('GET', url)\n",
    "            soup = BeautifulSoup(response.data.decode('utf-8'),'lxml')\n",
    "            data_text = soup.get_text()\n",
    "\n",
    "            # 3)\n",
    "            # Split the content by new line.\n",
    "            splitted = data_text.split(\"\\n\",data_text.count(\"\\n\"))\n",
    "\n",
    "\n",
    "            # 4)\n",
    "            # Write this splitted text to a .txt document\n",
    "            Sounding_filename = '/home/franzihe/Documents/Data/Sounding/{}/{}{}{}_{}.txt'.format(stn,year,month,day,hour)\n",
    "            f = open(Sounding_filename,'w')\n",
    "            for line in splitted[4:]:\n",
    "                f.write(line+'\\n')\n",
    "            f.close()\n",
    "            \n",
    "            print('file written: {}'.format(Sounding_filename))"
   ]
  }
 ],
 "metadata": {
  "jupytext": {
   "formats": "ipynb,py:light"
  },
  "kernelspec": {
   "display_name": "Python 3",
   "language": "python",
   "name": "python3"
  },
  "language_info": {
   "codemirror_mode": {
    "name": "ipython",
    "version": 3
   },
   "file_extension": ".py",
   "mimetype": "text/x-python",
   "name": "python",
   "nbconvert_exporter": "python",
   "pygments_lexer": "ipython3",
   "version": "3.7.9"
  }
 },
 "nbformat": 4,
 "nbformat_minor": 4
}
