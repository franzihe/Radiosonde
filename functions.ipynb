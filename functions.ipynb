{
 "cells": [
  {
   "cell_type": "code",
   "execution_count": null,
   "id": "legislative-tyler",
   "metadata": {},
   "outputs": [],
   "source": [
    "from imports import (os, sns, pd, np, plt)"
   ]
  },
  {
   "cell_type": "code",
   "execution_count": null,
   "id": "likely-location",
   "metadata": {},
   "outputs": [],
   "source": [
    "def createFolder(directory):\n",
    "    try:\n",
    "        if not os.path.exists(directory):\n",
    "            os.makedirs(directory)\n",
    "    except OSError:\n",
    "        print ('Error: Creating directory. ' +  directory)"
   ]
  },
  {
   "cell_type": "code",
   "execution_count": null,
   "id": "overhead-export",
   "metadata": {},
   "outputs": [],
   "source": [
    "def find_yx(lat, lon, point_lat, point_lon):\n",
    "    abs_lat = abs(lat - point_lat)\n",
    "    abs_lon = abs(lon - point_lon)\n",
    "\n",
    "    c = np.maximum(abs_lat, abs_lon)\n",
    "\n",
    "    y, x = np.where(c == c.min())\n",
    "    y = y[0]\n",
    "    x = x[0]\n",
    "    \n",
    "    xx = lat[y, x].x\n",
    "    yy = lon[y, x].y\n",
    "    return(xx, yy)"
   ]
  },
  {
   "cell_type": "code",
   "execution_count": null,
   "id": "automated-merchant",
   "metadata": {},
   "outputs": [],
   "source": [
    "# plot style\n",
    "def plot_style():\n",
    "    sns.set_context('paper', font_scale=1.6)\n",
    "\n",
    "    sns.set(font = 'Serif', font_scale = 1.6, )\n",
    "    sns.set_style('ticks', \n",
    "                      {'font.family':'serif', #'font.serif':'Helvetica'\n",
    "                       'grid.linestyle': '--',\n",
    "                       'axes.grid': True,\n",
    "                      }, \n",
    "                       )\n",
    "    # Set the palette to the \"pastel\" default palette:\n",
    "    sns.set_palette(\"colorblind\")\n",
    "plot_style()"
   ]
  },
  {
   "cell_type": "code",
   "execution_count": null,
   "id": "literary-cardiff",
   "metadata": {},
   "outputs": [],
   "source": [
    "def concat_profile_all_days(df, Date, observation, _pres, _temp, _dwpt, _xwind, _ywind):\n",
    "    _lev = np.arange(1000,-25, -25)\n",
    "    _averaged = pd.DataFrame()\n",
    "\n",
    "    for i in _lev:\n",
    "        filter1 = np.logical_and(df.PRES > i-25,\n",
    "                                 df.PRES <= i+25 ) \n",
    "                \n",
    "        _averaged = pd.concat([_averaged, df.where(filter1).mean()], axis = 1)\n",
    "        _averaged = _averaged.rename(columns = {0:i})\n",
    "\n",
    "        _averaged = _averaged.T\n",
    "            \n",
    "            # concat the pressure, height, temperature, dewpoint, mixing ration, wind direction, wind speed, \n",
    "            # potential temperature of all dates \n",
    "        _pres = pd.concat([_pres, _averaged.PRES], axis = 1).rename(columns = {'PRES':Date})\n",
    "        _temp = pd.concat([_temp, _averaged.TEMP], axis = 1).rename(columns = {'TEMP':Date})\n",
    "        _dwpt = pd.concat([_dwpt, _averaged.DWPT], axis = 1).rename(columns = {'DWPT':Date})\n",
    "        _xwind = pd.concat([_xwind, _averaged.x_wind], axis = 1).rename(columns = {'x_wind':Date})\n",
    "        _ywind = pd.concat([_ywind, _averaged.y_wind], axis = 1).rename(columns = {'y_wind':Date})\n",
    "            \n",
    "    return(_pres, _temp, _dwpt, _xwind, _ywind)"
   ]
  },
  {
   "cell_type": "code",
   "execution_count": null,
   "id": "random-student",
   "metadata": {},
   "outputs": [],
   "source": [
    "def plt_skewT(fig, skew, meps_run, p, T, Td, u, v,profile_time):\n",
    "    cc = [sns.color_palette(\"colorblind\",5)[2], \n",
    "          sns.color_palette(\"colorblind\",5)[1],\n",
    "          sns.color_palette(\"colorblind\",5)[0]]\n",
    "    \n",
    "    for meps, k, xloc in zip(meps_run,cc,[0.8, 0.9, 1.]):\n",
    "        \n",
    "        skew.plot(p[meps][profile_time], T[meps][profile_time], color= k, label = meps)\n",
    "        skew.plot(p[meps][profile_time], Td[meps][profile_time], color = k)\n",
    "        skew.plot_barbs(p[meps][profile_time], u[meps][profile_time], v[meps][profile_time],color=k, xloc=xloc)\n",
    "\n",
    "    skew.ax.set_ylim(1000, 100)\n",
    "\n",
    "    # Add the relevant special lines\n",
    "    skew.plot_dry_adiabats()\n",
    "    skew.plot_moist_adiabats()\n",
    "    skew.plot_mixing_lines()\n",
    "\n",
    "    # Good bounds for aspect ratio\n",
    "    skew.ax.set_xlim(-35, 40)\n",
    "    skew.ax.text(0.05, 1, 'Vertical profile mean - Stavanger: {} UTC'.format(profile_time), transform=skew.ax.transAxes,\n",
    "                 fontsize=14, verticalalignment='bottom',)# bbox='fancy')\n",
    "    plt.legend(loc = 'lower left', fancybox = True, facecolor = 'white',  title_fontsize = 16)"
   ]
  }
 ],
 "metadata": {
  "jupytext": {
   "formats": "ipynb,py:light"
  },
  "kernelspec": {
   "display_name": "Python 3",
   "language": "python",
   "name": "python3"
  },
  "language_info": {
   "codemirror_mode": {
    "name": "ipython",
    "version": 3
   },
   "file_extension": ".py",
   "mimetype": "text/x-python",
   "name": "python",
   "nbconvert_exporter": "python",
   "pygments_lexer": "ipython3",
   "version": "3.7.9"
  }
 },
 "nbformat": 4,
 "nbformat_minor": 5
}
